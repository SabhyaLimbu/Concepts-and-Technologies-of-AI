{
  "nbformat": 4,
  "nbformat_minor": 0,
  "metadata": {
    "colab": {
      "provenance": []
    },
    "kernelspec": {
      "name": "python3",
      "display_name": "Python 3"
    },
    "language_info": {
      "name": "python"
    }
  },
  "cells": [
    {
      "cell_type": "markdown",
      "source": [
        " SORTING AND SUBSETTING\n",
        "\n",
        " Complete all following Task:\n",
        "\n",
        " • Dataset for the Task: \"titanic.csv\"\n",
        " Following task is common for all the problem:\n",
        " 1. Load the provided dataset and import in pandas DataFrame."
      ],
      "metadata": {
        "id": "9uEw_T5r8k6P"
      }
    },
    {
      "cell_type": "code",
      "source": [
        "import pandas as pd"
      ],
      "metadata": {
        "id": "zY22ZcXl9fMM"
      },
      "execution_count": 63,
      "outputs": []
    },
    {
      "cell_type": "code",
      "source": [
        "file_path = \"/content/drive/MyDrive/Concept and technologies of AI/titanic.csv\"\n",
        "titanic_data = pd.read_csv(file_path)\n",
        "\n",
        "print(titanic_data.head())\n"
      ],
      "metadata": {
        "id": "KtpVdnZR-2XV",
        "colab": {
          "base_uri": "https://localhost:8080/"
        },
        "outputId": "01909049-6007-4710-d578-f588d65ac326"
      },
      "execution_count": 64,
      "outputs": [
        {
          "output_type": "stream",
          "name": "stdout",
          "text": [
            "   PassengerId  Survived  Pclass  \\\n",
            "0            1         0       3   \n",
            "1            2         1       1   \n",
            "2            3         1       3   \n",
            "3            4         1       1   \n",
            "4            5         0       3   \n",
            "\n",
            "                                                Name     Sex   Age  SibSp  \\\n",
            "0                            Braund, Mr. Owen Harris    male  22.0      1   \n",
            "1  Cumings, Mrs. John Bradley (Florence Briggs Th...  female  38.0      1   \n",
            "2                             Heikkinen, Miss. Laina  female  26.0      0   \n",
            "3       Futrelle, Mrs. Jacques Heath (Lily May Peel)  female  35.0      1   \n",
            "4                           Allen, Mr. William Henry    male  35.0      0   \n",
            "\n",
            "   Parch            Ticket     Fare Cabin Embarked  \n",
            "0      0         A/5 21171   7.2500   NaN        S  \n",
            "1      0          PC 17599  71.2833   C85        C  \n",
            "2      0  STON/O2. 3101282   7.9250   NaN        S  \n",
            "3      0            113803  53.1000  C123        S  \n",
            "4      0            373450   8.0500   NaN        S  \n"
          ]
        }
      ]
    },
    {
      "cell_type": "markdown",
      "source": [
        "2. Check info of the DataFrame and identify following:\n"
      ],
      "metadata": {
        "id": "YFmyiJartQ42"
      }
    },
    {
      "cell_type": "code",
      "source": [
        "import pandas as pd\n",
        "\n",
        "file_path = \"/content/drive/MyDrive/Concept and technologies of AI/titanic.csv\"\n",
        "# The pd.read_csv function is used to read the data from the CSV file into a DataFrame.\n",
        "titanic_data = pd.read_csv(file_path)\n",
        "# print(data_frame)\n",
        "print(titanic_data)"
      ],
      "metadata": {
        "colab": {
          "base_uri": "https://localhost:8080/"
        },
        "id": "GWDNtvf6tWJi",
        "outputId": "02d8c35c-114a-4eda-8aae-943e09be7ba5"
      },
      "execution_count": 65,
      "outputs": [
        {
          "output_type": "stream",
          "name": "stdout",
          "text": [
            "     PassengerId  Survived  Pclass  \\\n",
            "0              1         0       3   \n",
            "1              2         1       1   \n",
            "2              3         1       3   \n",
            "3              4         1       1   \n",
            "4              5         0       3   \n",
            "..           ...       ...     ...   \n",
            "886          887         0       2   \n",
            "887          888         1       1   \n",
            "888          889         0       3   \n",
            "889          890         1       1   \n",
            "890          891         0       3   \n",
            "\n",
            "                                                  Name     Sex   Age  SibSp  \\\n",
            "0                              Braund, Mr. Owen Harris    male  22.0      1   \n",
            "1    Cumings, Mrs. John Bradley (Florence Briggs Th...  female  38.0      1   \n",
            "2                               Heikkinen, Miss. Laina  female  26.0      0   \n",
            "3         Futrelle, Mrs. Jacques Heath (Lily May Peel)  female  35.0      1   \n",
            "4                             Allen, Mr. William Henry    male  35.0      0   \n",
            "..                                                 ...     ...   ...    ...   \n",
            "886                              Montvila, Rev. Juozas    male  27.0      0   \n",
            "887                       Graham, Miss. Margaret Edith  female  19.0      0   \n",
            "888           Johnston, Miss. Catherine Helen \"Carrie\"  female   NaN      1   \n",
            "889                              Behr, Mr. Karl Howell    male  26.0      0   \n",
            "890                                Dooley, Mr. Patrick    male  32.0      0   \n",
            "\n",
            "     Parch            Ticket     Fare Cabin Embarked  \n",
            "0        0         A/5 21171   7.2500   NaN        S  \n",
            "1        0          PC 17599  71.2833   C85        C  \n",
            "2        0  STON/O2. 3101282   7.9250   NaN        S  \n",
            "3        0            113803  53.1000  C123        S  \n",
            "4        0            373450   8.0500   NaN        S  \n",
            "..     ...               ...      ...   ...      ...  \n",
            "886      0            211536  13.0000   NaN        S  \n",
            "887      0            112053  30.0000   B42        S  \n",
            "888      2        W./C. 6607  23.4500   NaN        S  \n",
            "889      0            111369  30.0000  C148        C  \n",
            "890      0            370376   7.7500   NaN        Q  \n",
            "\n",
            "[891 rows x 12 columns]\n"
          ]
        }
      ]
    },
    {
      "cell_type": "markdown",
      "source": [
        "Problem 1 - Sorting:\n",
        "1. Create a DataFrame called fare that contains only the Fare column of the Titanic dataset. Print the\n",
        "head of the result."
      ],
      "metadata": {
        "id": "SKMwQuU3tiD0"
      }
    },
    {
      "cell_type": "code",
      "source": [
        "fare = titanic_data[['Fare']]\n",
        "\n",
        "print(\"\\nFare DataFrame (head):\")\n",
        "print(fare.head())\n"
      ],
      "metadata": {
        "colab": {
          "base_uri": "https://localhost:8080/"
        },
        "id": "WOEo5-JZtoK6",
        "outputId": "9a1486d1-421a-48ff-9ca6-8d8c2c70f792"
      },
      "execution_count": 66,
      "outputs": [
        {
          "output_type": "stream",
          "name": "stdout",
          "text": [
            "\n",
            "Fare DataFrame (head):\n",
            "      Fare\n",
            "0   7.2500\n",
            "1  71.2833\n",
            "2   7.9250\n",
            "3  53.1000\n",
            "4   8.0500\n"
          ]
        }
      ]
    },
    {
      "cell_type": "markdown",
      "source": [
        "2. Create a DataFrame called class age that contains only the Pclass and Age columns of the Titanic\n",
        "dataset, in that order. Print the head of the result."
      ],
      "metadata": {
        "id": "W-6YnRKltlV_"
      }
    },
    {
      "cell_type": "code",
      "source": [
        "class_age = titanic_data[['Pclass', 'Age']]\n",
        "\n",
        "print(\"\\nClass and Age DataFrame (head):\")\n",
        "print(class_age.head())\n"
      ],
      "metadata": {
        "colab": {
          "base_uri": "https://localhost:8080/"
        },
        "id": "xcmoYt6Zttsn",
        "outputId": "e576e229-4457-4dd9-fa39-8c9fa6ddfb77"
      },
      "execution_count": 67,
      "outputs": [
        {
          "output_type": "stream",
          "name": "stdout",
          "text": [
            "\n",
            "Class and Age DataFrame (head):\n",
            "   Pclass   Age\n",
            "0       3  22.0\n",
            "1       1  38.0\n",
            "2       3  26.0\n",
            "3       1  35.0\n",
            "4       3  35.0\n"
          ]
        }
      ]
    },
    {
      "cell_type": "markdown",
      "source": [
        "3. Create a DataFrame called survived gender that contains the Survived and Sex columns of the\n",
        "Titanic dataset, in that order.Print the head of the result."
      ],
      "metadata": {
        "id": "k9jOgObjt2A3"
      }
    },
    {
      "cell_type": "code",
      "source": [
        "survived_gender = titanic_data[['Survived', 'Sex']]\n",
        "\n",
        "print(\"\\nSurvived and Gender DataFrame (head):\")\n",
        "print(survived_gender.head())\n"
      ],
      "metadata": {
        "colab": {
          "base_uri": "https://localhost:8080/"
        },
        "id": "f9Gu2-SDt9vz",
        "outputId": "e6bcde3d-a586-4518-bec7-664220be18f4"
      },
      "execution_count": 68,
      "outputs": [
        {
          "output_type": "stream",
          "name": "stdout",
          "text": [
            "\n",
            "Survived and Gender DataFrame (head):\n",
            "   Survived     Sex\n",
            "0         0    male\n",
            "1         1  female\n",
            "2         1  female\n",
            "3         1  female\n",
            "4         0    male\n"
          ]
        }
      ]
    },
    {
      "cell_type": "markdown",
      "source": [
        "Problem - 2 - Subsetting:\n",
        "Complete all the following Task:\n",
        "Subsetting Rows:\n",
        "1. Filter the Titanic dataset for cases where the passenger’s fare is greater than 100, assigning it\n",
        "to fare gt 100.View the printed result."
      ],
      "metadata": {
        "id": "kudgY5OUuJ5i"
      }
    },
    {
      "cell_type": "code",
      "source": [
        "# Subsetting Rows:\n",
        "#titanic_data = pd.DataFrame(file_path)\n",
        "fare_gt_100 = titanic_data[titanic_data['Fare']>100]\n",
        "print(fare_gt_100.head())"
      ],
      "metadata": {
        "colab": {
          "base_uri": "https://localhost:8080/"
        },
        "id": "kaStW4Ab3sk-",
        "outputId": "fadad610-5f01-4d9a-baa1-5ec06ca8992c"
      },
      "execution_count": 69,
      "outputs": [
        {
          "output_type": "stream",
          "name": "stdout",
          "text": [
            "     PassengerId  Survived  Pclass  \\\n",
            "27            28         0       1   \n",
            "31            32         1       1   \n",
            "88            89         1       1   \n",
            "118          119         0       1   \n",
            "195          196         1       1   \n",
            "\n",
            "                                               Name     Sex   Age  SibSp  \\\n",
            "27                   Fortune, Mr. Charles Alexander    male  19.0      3   \n",
            "31   Spencer, Mrs. William Augustus (Marie Eugenie)  female   NaN      1   \n",
            "88                       Fortune, Miss. Mabel Helen  female  23.0      3   \n",
            "118                        Baxter, Mr. Quigg Edmond    male  24.0      0   \n",
            "195                            Lurette, Miss. Elise  female  58.0      0   \n",
            "\n",
            "     Parch    Ticket      Fare        Cabin Embarked  \n",
            "27       2     19950  263.0000  C23 C25 C27        S  \n",
            "31       0  PC 17569  146.5208          B78        C  \n",
            "88       2     19950  263.0000  C23 C25 C27        S  \n",
            "118      1  PC 17558  247.5208      B58 B60        C  \n",
            "195      0  PC 17569  146.5208          B80        C  \n"
          ]
        }
      ]
    },
    {
      "cell_type": "markdown",
      "source": [
        "2. Filter the Titanic dataset for cases where the passenger’s class (Pclass) is 1, assigning it to\n",
        "first class.View the printed result."
      ],
      "metadata": {
        "id": "oi0XIjV63zRE"
      }
    },
    {
      "cell_type": "code",
      "source": [
        "first_class = titanic_data[titanic_data['Pclass'] == 1]\n",
        "\n",
        "print(\"\\nPassengers in First Class (Pclass = 1):\")\n",
        "print(first_class)\n"
      ],
      "metadata": {
        "colab": {
          "base_uri": "https://localhost:8080/"
        },
        "id": "79stiqou3744",
        "outputId": "5fe67464-ed00-4162-f519-71b2c1517e0c"
      },
      "execution_count": 70,
      "outputs": [
        {
          "output_type": "stream",
          "name": "stdout",
          "text": [
            "\n",
            "Passengers in First Class (Pclass = 1):\n",
            "     PassengerId  Survived  Pclass  \\\n",
            "1              2         1       1   \n",
            "3              4         1       1   \n",
            "6              7         0       1   \n",
            "11            12         1       1   \n",
            "23            24         1       1   \n",
            "..           ...       ...     ...   \n",
            "871          872         1       1   \n",
            "872          873         0       1   \n",
            "879          880         1       1   \n",
            "887          888         1       1   \n",
            "889          890         1       1   \n",
            "\n",
            "                                                  Name     Sex   Age  SibSp  \\\n",
            "1    Cumings, Mrs. John Bradley (Florence Briggs Th...  female  38.0      1   \n",
            "3         Futrelle, Mrs. Jacques Heath (Lily May Peel)  female  35.0      1   \n",
            "6                              McCarthy, Mr. Timothy J    male  54.0      0   \n",
            "11                            Bonnell, Miss. Elizabeth  female  58.0      0   \n",
            "23                        Sloper, Mr. William Thompson    male  28.0      0   \n",
            "..                                                 ...     ...   ...    ...   \n",
            "871   Beckwith, Mrs. Richard Leonard (Sallie Monypeny)  female  47.0      1   \n",
            "872                           Carlsson, Mr. Frans Olof    male  33.0      0   \n",
            "879      Potter, Mrs. Thomas Jr (Lily Alexenia Wilson)  female  56.0      0   \n",
            "887                       Graham, Miss. Margaret Edith  female  19.0      0   \n",
            "889                              Behr, Mr. Karl Howell    male  26.0      0   \n",
            "\n",
            "     Parch    Ticket     Fare        Cabin Embarked  \n",
            "1        0  PC 17599  71.2833          C85        C  \n",
            "3        0    113803  53.1000         C123        S  \n",
            "6        0     17463  51.8625          E46        S  \n",
            "11       0    113783  26.5500         C103        S  \n",
            "23       0    113788  35.5000           A6        S  \n",
            "..     ...       ...      ...          ...      ...  \n",
            "871      1     11751  52.5542          D35        S  \n",
            "872      0       695   5.0000  B51 B53 B55        S  \n",
            "879      1     11767  83.1583          C50        C  \n",
            "887      0    112053  30.0000          B42        S  \n",
            "889      0    111369  30.0000         C148        C  \n",
            "\n",
            "[216 rows x 12 columns]\n"
          ]
        }
      ]
    },
    {
      "cell_type": "markdown",
      "source": [
        "3. Filter the Titanic dataset for cases where the passenger’s age is less than 18 and the passenger\n",
        "is female (Sex is \"female\"), assigning it to female under 18. View the printed result."
      ],
      "metadata": {
        "id": "uetS6bmW4EA2"
      }
    },
    {
      "cell_type": "code",
      "source": [
        "#subsetting\n",
        "female_under_18 = titanic_data[(titanic_data['Sex']=='female')&(titanic_data['Age']<18)]\n",
        "print(female_under_18.head())"
      ],
      "metadata": {
        "colab": {
          "base_uri": "https://localhost:8080/"
        },
        "id": "ia50G1WH4Il0",
        "outputId": "2b1363b7-b61d-443d-a3a3-48e74b645372"
      },
      "execution_count": 71,
      "outputs": [
        {
          "output_type": "stream",
          "name": "stdout",
          "text": [
            "    PassengerId  Survived  Pclass                                  Name  \\\n",
            "9            10         1       2   Nasser, Mrs. Nicholas (Adele Achem)   \n",
            "10           11         1       3       Sandstrom, Miss. Marguerite Rut   \n",
            "14           15         0       3  Vestrom, Miss. Hulda Amanda Adolfina   \n",
            "22           23         1       3           McGowan, Miss. Anna \"Annie\"   \n",
            "24           25         0       3         Palsson, Miss. Torborg Danira   \n",
            "\n",
            "       Sex   Age  SibSp  Parch   Ticket     Fare Cabin Embarked  \n",
            "9   female  14.0      1      0   237736  30.0708   NaN        C  \n",
            "10  female   4.0      1      1  PP 9549  16.7000    G6        S  \n",
            "14  female  14.0      0      0   350406   7.8542   NaN        S  \n",
            "22  female  15.0      0      0   330923   8.0292   NaN        Q  \n",
            "24  female   8.0      3      1   349909  21.0750   NaN        S  \n"
          ]
        }
      ]
    },
    {
      "cell_type": "markdown",
      "source": [
        "Subsetting Rows by Categorical variables:\n",
        "1. Filter the Titanic dataset for passengers whose Embarked port is either \"C\" (Cherbourg) or \"S\"\n",
        "(Southampton), assigning the result to embarked c or s. View the printed result."
      ],
      "metadata": {
        "id": "eOvPWsTo4PGk"
      }
    },
    {
      "cell_type": "code",
      "source": [
        "embarked_c_or_s = titanic_data[titanic_data['Embarked'].isin(['C', 'S'])]\n",
        "\n",
        "print(\"\\nPassengers Embarked at Cherbourg (C) or Southampton (S):\")\n",
        "print(embarked_c_or_s)"
      ],
      "metadata": {
        "colab": {
          "base_uri": "https://localhost:8080/"
        },
        "id": "U8IcO3bY4TGQ",
        "outputId": "5aca6c9e-d16a-4e77-b3c7-aaea2a414887"
      },
      "execution_count": 72,
      "outputs": [
        {
          "output_type": "stream",
          "name": "stdout",
          "text": [
            "\n",
            "Passengers Embarked at Cherbourg (C) or Southampton (S):\n",
            "     PassengerId  Survived  Pclass  \\\n",
            "0              1         0       3   \n",
            "1              2         1       1   \n",
            "2              3         1       3   \n",
            "3              4         1       1   \n",
            "4              5         0       3   \n",
            "..           ...       ...     ...   \n",
            "884          885         0       3   \n",
            "886          887         0       2   \n",
            "887          888         1       1   \n",
            "888          889         0       3   \n",
            "889          890         1       1   \n",
            "\n",
            "                                                  Name     Sex   Age  SibSp  \\\n",
            "0                              Braund, Mr. Owen Harris    male  22.0      1   \n",
            "1    Cumings, Mrs. John Bradley (Florence Briggs Th...  female  38.0      1   \n",
            "2                               Heikkinen, Miss. Laina  female  26.0      0   \n",
            "3         Futrelle, Mrs. Jacques Heath (Lily May Peel)  female  35.0      1   \n",
            "4                             Allen, Mr. William Henry    male  35.0      0   \n",
            "..                                                 ...     ...   ...    ...   \n",
            "884                             Sutehall, Mr. Henry Jr    male  25.0      0   \n",
            "886                              Montvila, Rev. Juozas    male  27.0      0   \n",
            "887                       Graham, Miss. Margaret Edith  female  19.0      0   \n",
            "888           Johnston, Miss. Catherine Helen \"Carrie\"  female   NaN      1   \n",
            "889                              Behr, Mr. Karl Howell    male  26.0      0   \n",
            "\n",
            "     Parch            Ticket     Fare Cabin Embarked  \n",
            "0        0         A/5 21171   7.2500   NaN        S  \n",
            "1        0          PC 17599  71.2833   C85        C  \n",
            "2        0  STON/O2. 3101282   7.9250   NaN        S  \n",
            "3        0            113803  53.1000  C123        S  \n",
            "4        0            373450   8.0500   NaN        S  \n",
            "..     ...               ...      ...   ...      ...  \n",
            "884      0   SOTON/OQ 392076   7.0500   NaN        S  \n",
            "886      0            211536  13.0000   NaN        S  \n",
            "887      0            112053  30.0000   B42        S  \n",
            "888      2        W./C. 6607  23.4500   NaN        S  \n",
            "889      0            111369  30.0000  C148        C  \n",
            "\n",
            "[812 rows x 12 columns]\n"
          ]
        }
      ]
    },
    {
      "cell_type": "markdown",
      "source": [
        "2. Filter the Titanic dataset for passengers whose Pclass is in the list [1, 2] (indicating first\n",
        "or second class), assigning the result to first second class.View the printed result."
      ],
      "metadata": {
        "id": "pW5HAQ6QPTnp"
      }
    },
    {
      "cell_type": "code",
      "source": [
        "first_second_class = titanic_data[titanic_data['Pclass'].isin([1, 2])]\n",
        "\n",
        "print(\"\\nPassengers in First or Second Class (Pclass in [1, 2]):\")\n",
        "print(first_second_class)\n"
      ],
      "metadata": {
        "colab": {
          "base_uri": "https://localhost:8080/"
        },
        "id": "36eBxQTMPVvX",
        "outputId": "fb46bfa1-6038-490e-db15-398fc84c28cc"
      },
      "execution_count": 73,
      "outputs": [
        {
          "output_type": "stream",
          "name": "stdout",
          "text": [
            "\n",
            "Passengers in First or Second Class (Pclass in [1, 2]):\n",
            "     PassengerId  Survived  Pclass  \\\n",
            "1              2         1       1   \n",
            "3              4         1       1   \n",
            "6              7         0       1   \n",
            "9             10         1       2   \n",
            "11            12         1       1   \n",
            "..           ...       ...     ...   \n",
            "880          881         1       2   \n",
            "883          884         0       2   \n",
            "886          887         0       2   \n",
            "887          888         1       1   \n",
            "889          890         1       1   \n",
            "\n",
            "                                                  Name     Sex   Age  SibSp  \\\n",
            "1    Cumings, Mrs. John Bradley (Florence Briggs Th...  female  38.0      1   \n",
            "3         Futrelle, Mrs. Jacques Heath (Lily May Peel)  female  35.0      1   \n",
            "6                              McCarthy, Mr. Timothy J    male  54.0      0   \n",
            "9                  Nasser, Mrs. Nicholas (Adele Achem)  female  14.0      1   \n",
            "11                            Bonnell, Miss. Elizabeth  female  58.0      0   \n",
            "..                                                 ...     ...   ...    ...   \n",
            "880       Shelley, Mrs. William (Imanita Parrish Hall)  female  25.0      0   \n",
            "883                      Banfield, Mr. Frederick James    male  28.0      0   \n",
            "886                              Montvila, Rev. Juozas    male  27.0      0   \n",
            "887                       Graham, Miss. Margaret Edith  female  19.0      0   \n",
            "889                              Behr, Mr. Karl Howell    male  26.0      0   \n",
            "\n",
            "     Parch            Ticket     Fare Cabin Embarked  \n",
            "1        0          PC 17599  71.2833   C85        C  \n",
            "3        0            113803  53.1000  C123        S  \n",
            "6        0             17463  51.8625   E46        S  \n",
            "9        0            237736  30.0708   NaN        C  \n",
            "11       0            113783  26.5500  C103        S  \n",
            "..     ...               ...      ...   ...      ...  \n",
            "880      1            230433  26.0000   NaN        S  \n",
            "883      0  C.A./SOTON 34068  10.5000   NaN        S  \n",
            "886      0            211536  13.0000   NaN        S  \n",
            "887      0            112053  30.0000   B42        S  \n",
            "889      0            111369  30.0000  C148        C  \n",
            "\n",
            "[400 rows x 12 columns]\n"
          ]
        }
      ]
    },
    {
      "cell_type": "markdown",
      "source": [
        "3.2 Exploratory Data Analysis Practice Exercise - 1.\n",
        "\n",
        "Warning: Handle missing values in the Age column by filling them with the median age of the dataset before performing the division.\n",
        "\n",
        "Answer the following questions from Dataset:\n",
        "Which passenger had the highest fare paid relative to their age?\n",
        "To answer the question perform following operations:\n",
        "1. Add a column to the Titanic dataset, fare per year, containing the fare divided by the age of\n",
        "the passenger(i.e., Fare/Age)."
      ],
      "metadata": {
        "id": "lmTW6se5PvSI"
      }
    },
    {
      "cell_type": "code",
      "source": [
        "import pandas as pd\n",
        "\n",
        "file_path = \"titanic.csv\"\n",
        "titanic_data = pd.read_csv('/content/drive/MyDrive/Concept and technologies of AI/titanic.csv')\n",
        "median_age = titanic_data['Age'].median()\n",
        "titanic_data['Age'].fillna(median_age, inplace=True)\n",
        "\n",
        "titanic_data['fare per year'] = titanic_data['Fare'] / titanic_data['Age']\n",
        "\n",
        "# Display the first few rows to check the new column\n",
        "print(\"\\nDataset with 'fare per year' column:\")\n",
        "print(titanic_data[['Name', 'Age', 'Fare', 'fare per year']].head())"
      ],
      "metadata": {
        "colab": {
          "base_uri": "https://localhost:8080/"
        },
        "id": "e1RxkQCwXieE",
        "outputId": "ce1a847e-8300-40cb-c2a1-8d5e1b975f49"
      },
      "execution_count": 74,
      "outputs": [
        {
          "output_type": "stream",
          "name": "stdout",
          "text": [
            "\n",
            "Dataset with 'fare per year' column:\n",
            "                                                Name   Age     Fare  \\\n",
            "0                            Braund, Mr. Owen Harris  22.0   7.2500   \n",
            "1  Cumings, Mrs. John Bradley (Florence Briggs Th...  38.0  71.2833   \n",
            "2                             Heikkinen, Miss. Laina  26.0   7.9250   \n",
            "3       Futrelle, Mrs. Jacques Heath (Lily May Peel)  35.0  53.1000   \n",
            "4                           Allen, Mr. William Henry  35.0   8.0500   \n",
            "\n",
            "   fare per year  \n",
            "0       0.329545  \n",
            "1       1.875876  \n",
            "2       0.304808  \n",
            "3       1.517143  \n",
            "4       0.230000  \n"
          ]
        },
        {
          "output_type": "stream",
          "name": "stderr",
          "text": [
            "<ipython-input-74-1da37564883f>:6: FutureWarning: A value is trying to be set on a copy of a DataFrame or Series through chained assignment using an inplace method.\n",
            "The behavior will change in pandas 3.0. This inplace method will never work because the intermediate object on which we are setting values always behaves as a copy.\n",
            "\n",
            "For example, when doing 'df[col].method(value, inplace=True)', try using 'df.method({col: value}, inplace=True)' or df[col] = df[col].method(value) instead, to perform the operation inplace on the original object.\n",
            "\n",
            "\n",
            "  titanic_data['Age'].fillna(median_age, inplace=True)\n"
          ]
        }
      ]
    },
    {
      "cell_type": "markdown",
      "source": [
        "\n",
        "2. Subset rows where fare per year is higher than 5, assigning this to high fare age."
      ],
      "metadata": {
        "id": "PbwSr4N8ReBd"
      }
    },
    {
      "cell_type": "code",
      "source": [
        "# Subset rows where fare per year is higher than 5, assigning it to high_fare_age\n",
        "high_fare_age = titanic_data[titanic_data['fare per year'] > 5]\n",
        "\n",
        "print(\"\\nPassengers with fare per year > 5:\")\n",
        "print(high_fare_age[['Name', 'fare per year']].head())\n"
      ],
      "metadata": {
        "colab": {
          "base_uri": "https://localhost:8080/"
        },
        "id": "Ll5ArF_XReR-",
        "outputId": "60d8dc88-dba5-4b86-b3e2-38a365d1cdde"
      },
      "execution_count": 75,
      "outputs": [
        {
          "output_type": "stream",
          "name": "stdout",
          "text": [
            "\n",
            "Passengers with fare per year > 5:\n",
            "                                              Name  fare per year\n",
            "7                   Palsson, Master. Gosta Leonard      10.537500\n",
            "16                            Rice, Master. Eugene      14.562500\n",
            "27                  Fortune, Mr. Charles Alexander      13.842105\n",
            "31  Spencer, Mrs. William Augustus (Marie Eugenie)       5.232886\n",
            "43        Laroche, Miss. Simonne Marie Anne Andree      13.859733\n"
          ]
        }
      ]
    },
    {
      "cell_type": "markdown",
      "source": [
        "3. Sort high fare age by descending fare per year, assigning this to high fare age srt."
      ],
      "metadata": {
        "id": "cQVqAkvbRhGm"
      }
    },
    {
      "cell_type": "code",
      "source": [
        "# Sort high_fare_age by descending fare per year, assigning it to high_fare_age_srt\n",
        "high_fare_age_srt = high_fare_age.sort_values(by='fare per year', ascending=False)\n",
        "\n",
        "print(\"\\nSorted high_fare_age by fare per year(descending):\")\n",
        "print(high_fare_age_srt[['Name', 'fare per year']].head())\n"
      ],
      "metadata": {
        "colab": {
          "base_uri": "https://localhost:8080/"
        },
        "id": "zweIZ4SeRhT9",
        "outputId": "e00b31ba-55d0-4c76-c8da-f2587537c177"
      },
      "execution_count": 76,
      "outputs": [
        {
          "output_type": "stream",
          "name": "stdout",
          "text": [
            "\n",
            "Sorted high_fare_age by fare per year(descending):\n",
            "                                Name  fare per year\n",
            "305   Allison, Master. Hudson Trevor     164.728261\n",
            "297     Allison, Miss. Helen Loraine      75.775000\n",
            "386  Goodwin, Master. Sidney Leonard      46.900000\n",
            "164     Panula, Master. Eino Viljami      39.687500\n",
            "183        Becker, Master. Richard F      39.000000\n"
          ]
        }
      ]
    },
    {
      "cell_type": "markdown",
      "source": [
        "4. Select only the Name and fare per year columns of high fare age srt and save the result as result."
      ],
      "metadata": {
        "id": "23lTf8cnRumG"
      }
    },
    {
      "cell_type": "code",
      "source": [
        "# Select only the 'Name' and 'fare per year' columns of high_fare_age_srt and save the result\n",
        "result = high_fare_age_srt[['Name', 'fare per year']]\n",
        "\n",
        "# Display the result\n",
        "print(\"\\nResult (Name and fare per year for passengers with fare per year > 5,sorted):\")\n",
        "print(result.head())\n"
      ],
      "metadata": {
        "colab": {
          "base_uri": "https://localhost:8080/"
        },
        "id": "GZnrwSX0RwYg",
        "outputId": "c46ca3a3-bbcd-413b-b856-d9e10875e45b"
      },
      "execution_count": 77,
      "outputs": [
        {
          "output_type": "stream",
          "name": "stdout",
          "text": [
            "\n",
            "Result (Name and fare per year for passengers with fare per year > 5,sorted):\n",
            "                                Name  fare per year\n",
            "305   Allison, Master. Hudson Trevor     164.728261\n",
            "297     Allison, Miss. Helen Loraine      75.775000\n",
            "386  Goodwin, Master. Sidney Leonard      46.900000\n",
            "164     Panula, Master. Eino Viljami      39.687500\n",
            "183        Becker, Master. Richard F      39.000000\n"
          ]
        }
      ]
    },
    {
      "cell_type": "markdown",
      "source": [
        "5. Look at the result."
      ],
      "metadata": {
        "id": "-nYBI0FMglQg"
      }
    },
    {
      "cell_type": "code",
      "source": [
        "# Display the result (Name and fare per year columns)\n",
        "print(\"\\nFinal result (Name and fare per year for passengers with fare per year > 5, sorted):\")\n",
        "print(result)\n"
      ],
      "metadata": {
        "colab": {
          "base_uri": "https://localhost:8080/"
        },
        "id": "pm0UIfjMgli-",
        "outputId": "db883b68-50cf-4ef6-8780-38c05eaaa59c"
      },
      "execution_count": 78,
      "outputs": [
        {
          "output_type": "stream",
          "name": "stdout",
          "text": [
            "\n",
            "Final result (Name and fare per year for passengers with fare per year > 5, sorted):\n",
            "                                               Name  fare per year\n",
            "305                  Allison, Master. Hudson Trevor     164.728261\n",
            "297                    Allison, Miss. Helen Loraine      75.775000\n",
            "386                 Goodwin, Master. Sidney Leonard      46.900000\n",
            "164                    Panula, Master. Eino Viljami      39.687500\n",
            "183                       Becker, Master. Richard F      39.000000\n",
            "..                                              ...            ...\n",
            "348          Coutts, Master. William Loch \"William\"       5.300000\n",
            "31   Spencer, Mrs. William Augustus (Marie Eugenie)       5.232886\n",
            "205                      Strom, Miss. Telma Matilda       5.231250\n",
            "813              Andersson, Miss. Ebba Iris Alfrida       5.212500\n",
            "480                  Goodwin, Master. Harold Victor       5.211111\n",
            "\n",
            "[71 rows x 2 columns]\n"
          ]
        }
      ]
    },
    {
      "cell_type": "markdown",
      "source": [
        "Which adult male passenger (age ≥ 18 and Sex is ’male’) paid the highest fare relative to their\n",
        "class?\n",
        "To answer the question perform following operations:\n",
        "1. Add a column to the Titanic dataset, fare per class, containing the fare divided by the passenger\n",
        "class i.e. Fare / Pclass."
      ],
      "metadata": {
        "id": "FgWtIaRngsrK"
      }
    },
    {
      "cell_type": "code",
      "source": [
        "# Add a new column 'fare per class' by dividing Fare by Pclass\n",
        "titanic_data['fare per class'] = titanic_data['Fare'] / titanic_data['Pclass']\n",
        "\n",
        "print(\"\\nData with 'fare per class' column:\")\n",
        "print(titanic_data[['Fare', 'Pclass', 'fare per class']].head())\n"
      ],
      "metadata": {
        "colab": {
          "base_uri": "https://localhost:8080/"
        },
        "id": "KvBQFXqpgu0e",
        "outputId": "69396e00-9341-4e74-8c43-7b165d1d4ed4"
      },
      "execution_count": 79,
      "outputs": [
        {
          "output_type": "stream",
          "name": "stdout",
          "text": [
            "\n",
            "Data with 'fare per class' column:\n",
            "      Fare  Pclass  fare per class\n",
            "0   7.2500       3        2.416667\n",
            "1  71.2833       1       71.283300\n",
            "2   7.9250       3        2.641667\n",
            "3  53.1000       1       53.100000\n",
            "4   8.0500       3        2.683333\n"
          ]
        }
      ]
    },
    {
      "cell_type": "markdown",
      "source": [
        "2. Subset rows where the passenger is male (Sex is ”male”) and an adult (Age is greater than or equal\n",
        "to 18), assigning this to adult males."
      ],
      "metadata": {
        "id": "YExbeCNJgy1N"
      }
    },
    {
      "cell_type": "code",
      "source": [
        "# Subset rows where the passenger is male (Sex is 'male') and an adult (Age >= 18)\n",
        "adult_males = titanic_data[(titanic_data['Sex'] == 'male') & (titanic_data['Age'] >= 18)]\n",
        "\n",
        "print(\"\\nAdult male passengers (Age >= 18):\")\n",
        "print(adult_males[['Name', 'Sex', 'Age', 'Fare', 'Pclass', 'fare per class']].head())\n"
      ],
      "metadata": {
        "colab": {
          "base_uri": "https://localhost:8080/"
        },
        "id": "2W4kucFAg1zM",
        "outputId": "f3474802-b982-424c-c11d-5901c7d49577"
      },
      "execution_count": 80,
      "outputs": [
        {
          "output_type": "stream",
          "name": "stdout",
          "text": [
            "\n",
            "Adult male passengers (Age >= 18):\n",
            "                              Name   Sex   Age     Fare  Pclass  \\\n",
            "0          Braund, Mr. Owen Harris  male  22.0   7.2500       3   \n",
            "4         Allen, Mr. William Henry  male  35.0   8.0500       3   \n",
            "5                 Moran, Mr. James  male  28.0   8.4583       3   \n",
            "6          McCarthy, Mr. Timothy J  male  54.0  51.8625       1   \n",
            "12  Saundercock, Mr. William Henry  male  20.0   8.0500       3   \n",
            "\n",
            "    fare per class  \n",
            "0         2.416667  \n",
            "4         2.683333  \n",
            "5         2.819433  \n",
            "6        51.862500  \n",
            "12        2.683333  \n"
          ]
        }
      ]
    },
    {
      "cell_type": "markdown",
      "source": [
        "3. Sort adult males by descending fare per class, assigning this to adult males srt."
      ],
      "metadata": {
        "id": "ey9XjIXEg6xT"
      }
    },
    {
      "cell_type": "code",
      "source": [
        "# Sort adult_males by descending fare per class, assigning it to adult_males_srt\n",
        "adult_males_srt = adult_males.sort_values(by='fare per class', ascending=False)\n",
        "\n",
        "print(\"\\nAdult males sorted by descending fare per class:\")\n",
        "print(adult_males_srt[['Name', 'Sex', 'Age', 'Fare', 'Pclass', 'fare per class']].head())\n"
      ],
      "metadata": {
        "colab": {
          "base_uri": "https://localhost:8080/"
        },
        "id": "VLUlLj9rhGHK",
        "outputId": "c2e2ad4f-3a06-4286-ed53-48893ca6660a"
      },
      "execution_count": 81,
      "outputs": [
        {
          "output_type": "stream",
          "name": "stdout",
          "text": [
            "\n",
            "Adult males sorted by descending fare per class:\n",
            "                                   Name   Sex   Age      Fare  Pclass  \\\n",
            "737              Lesurer, Mr. Gustave J  male  35.0  512.3292       1   \n",
            "679  Cardeza, Mr. Thomas Drake Martinez  male  36.0  512.3292       1   \n",
            "438                   Fortune, Mr. Mark  male  64.0  263.0000       1   \n",
            "27       Fortune, Mr. Charles Alexander  male  19.0  263.0000       1   \n",
            "118            Baxter, Mr. Quigg Edmond  male  24.0  247.5208       1   \n",
            "\n",
            "     fare per class  \n",
            "737        512.3292  \n",
            "679        512.3292  \n",
            "438        263.0000  \n",
            "27         263.0000  \n",
            "118        247.5208  \n"
          ]
        }
      ]
    },
    {
      "cell_type": "markdown",
      "source": [
        "4. Select only the Name, Age, and fare per class columns of adult males sr and save the result\n",
        "as result."
      ],
      "metadata": {
        "id": "0oVyw49ehK0b"
      }
    },
    {
      "cell_type": "code",
      "source": [
        "# Select only the 'Name', 'Age', and 'fare per class' columns of adult_males_srt and save it as result\n",
        "result = adult_males_srt[['Name', 'Age', 'fare per class']]\n",
        "\n",
        "print(\"\\nResult (Name, Age, and fare per class for adult males sorted):\")\n",
        "print(result.head())\n"
      ],
      "metadata": {
        "colab": {
          "base_uri": "https://localhost:8080/"
        },
        "id": "tLpIhMIQhQZZ",
        "outputId": "afe860b6-7447-4b44-8a24-8c697697acd9"
      },
      "execution_count": 82,
      "outputs": [
        {
          "output_type": "stream",
          "name": "stdout",
          "text": [
            "\n",
            "Result (Name, Age, and fare per class for adult males sorted):\n",
            "                                   Name   Age  fare per class\n",
            "737              Lesurer, Mr. Gustave J  35.0        512.3292\n",
            "679  Cardeza, Mr. Thomas Drake Martinez  36.0        512.3292\n",
            "438                   Fortune, Mr. Mark  64.0        263.0000\n",
            "27       Fortune, Mr. Charles Alexander  19.0        263.0000\n",
            "118            Baxter, Mr. Quigg Edmond  24.0        247.5208\n"
          ]
        }
      ]
    },
    {
      "cell_type": "markdown",
      "source": [
        "5. Look at the result."
      ],
      "metadata": {
        "id": "wOoC9DUWhXnx"
      }
    },
    {
      "cell_type": "code",
      "source": [
        "# Display the final result (Name, Age, and fare per class for adult males sorted)\n",
        "print(\"\\nFinal result (Name, Age, and fare per class for adult males sorted):\")\n",
        "print(result)\n"
      ],
      "metadata": {
        "colab": {
          "base_uri": "https://localhost:8080/"
        },
        "id": "RL_c4C9Chdc3",
        "outputId": "6eaed2ae-d1f0-4a1d-d179-77f4c17d718a"
      },
      "execution_count": 83,
      "outputs": [
        {
          "output_type": "stream",
          "name": "stdout",
          "text": [
            "\n",
            "Final result (Name, Age, and fare per class for adult males sorted):\n",
            "                                   Name   Age  fare per class\n",
            "737              Lesurer, Mr. Gustave J  35.0        512.3292\n",
            "679  Cardeza, Mr. Thomas Drake Martinez  36.0        512.3292\n",
            "438                   Fortune, Mr. Mark  64.0        263.0000\n",
            "27       Fortune, Mr. Charles Alexander  19.0        263.0000\n",
            "118            Baxter, Mr. Quigg Edmond  24.0        247.5208\n",
            "..                                  ...   ...             ...\n",
            "806              Andrews, Mr. Thomas Jr  39.0          0.0000\n",
            "481    Frost, Mr. Anthony Wood \"Archie\"  28.0          0.0000\n",
            "413      Cunningham, Mr. Alfred Fleming  28.0          0.0000\n",
            "466               Campbell, Mr. William  28.0          0.0000\n",
            "271        Tornquist, Mr. William Henry  25.0          0.0000\n",
            "\n",
            "[519 rows x 3 columns]\n"
          ]
        }
      ]
    },
    {
      "cell_type": "markdown",
      "source": [
        "3.3 Exploratory Data Analysis with Group-by Method Practice Exercise:\n",
        "Based on the dataset Answer the following question:\n",
        "What percent of the total fare revenue came from each passenger class?\n",
        "To answer the question perform following operation:\n",
        "1. Calculate the total Fare paid across all passengers in the Titanic dataset."
      ],
      "metadata": {
        "id": "f8Y1TWzMhsJi"
      }
    },
    {
      "cell_type": "code",
      "source": [
        "# Calculate the total Fare paid across all passengers in the Titanic dataset\n",
        "total_fare = titanic_data['Fare'].sum()\n",
        "\n",
        "print(\"\\nTotal fare paid across all passengers in the Titanic dataset:\")\n",
        "print(total_fare)\n"
      ],
      "metadata": {
        "colab": {
          "base_uri": "https://localhost:8080/"
        },
        "id": "WcsK7f9hhyGz",
        "outputId": "9ea05f7f-6016-4a59-8498-20736c624159"
      },
      "execution_count": 84,
      "outputs": [
        {
          "output_type": "stream",
          "name": "stdout",
          "text": [
            "\n",
            "Total fare paid across all passengers in the Titanic dataset:\n",
            "28693.9493\n"
          ]
        }
      ]
    },
    {
      "cell_type": "markdown",
      "source": [
        "2. Subset for passengers in first class (Pclass is 1) and calculate their total fare."
      ],
      "metadata": {
        "id": "2tyyZU-lh4Lo"
      }
    },
    {
      "cell_type": "code",
      "source": [
        "# Subset the dataset for passengers in first class (Pclass is 1)\n",
        "first_class_passengers = titanic_data[titanic_data['Pclass'] == 1]\n",
        "\n",
        "total_fare_first_class = first_class_passengers['Fare'].sum()\n",
        "\n",
        "# Display the total fare for first class passengers\n",
        "print(\"\\nTotal fare paid by first class passengers:\")\n",
        "print(total_fare_first_class)\n"
      ],
      "metadata": {
        "colab": {
          "base_uri": "https://localhost:8080/"
        },
        "id": "4_PW8PDvh76O",
        "outputId": "8b896033-98fd-4450-df93-550a6da352d3"
      },
      "execution_count": 85,
      "outputs": [
        {
          "output_type": "stream",
          "name": "stdout",
          "text": [
            "\n",
            "Total fare paid by first class passengers:\n",
            "18177.4125\n"
          ]
        }
      ]
    },
    {
      "cell_type": "markdown",
      "source": [
        "3. Do the same for second class (Pclass is 2) and third class (Pclass is 3)."
      ],
      "metadata": {
        "id": "hE-5e1YJiBJX"
      }
    },
    {
      "cell_type": "code",
      "source": [
        "# Subset the dataset for passengers in second class (Pclass is 2)\n",
        "second_class_passengers = titanic_data[titanic_data['Pclass'] == 2]\n",
        "\n",
        "total_fare_second_class = second_class_passengers['Fare'].sum()\n",
        "\n",
        "# Display the total fare for second class passengers\n",
        "print(\"\\nTotal fare paid by second class passengers:\")\n",
        "print(total_fare_second_class)\n"
      ],
      "metadata": {
        "colab": {
          "base_uri": "https://localhost:8080/"
        },
        "id": "_dFJkLc9iFg2",
        "outputId": "0abc452a-5386-4bb2-9e9e-cf4bfa031cec"
      },
      "execution_count": 86,
      "outputs": [
        {
          "output_type": "stream",
          "name": "stdout",
          "text": [
            "\n",
            "Total fare paid by second class passengers:\n",
            "3801.8417\n"
          ]
        }
      ]
    },
    {
      "cell_type": "markdown",
      "source": [
        "4. Combine the fare totals from first, second, and third classes into a list."
      ],
      "metadata": {
        "id": "5wuPU_f2iNXi"
      }
    },
    {
      "cell_type": "code",
      "source": [
        "# Subset the dataset for passengers in third class (Pclass is 3)\n",
        "third_class_passengers = titanic_data[titanic_data['Pclass'] == 3]\n",
        "\n",
        "total_fare_third_class = third_class_passengers['Fare'].sum()\n",
        "\n",
        "# Display the total fare for third class passengers\n",
        "print(\"\\nTotal fare paid by third class passengers:\")\n",
        "print(total_fare_third_class)"
      ],
      "metadata": {
        "colab": {
          "base_uri": "https://localhost:8080/"
        },
        "id": "tQ9_sOFEihAe",
        "outputId": "1ed8e76b-fd68-4c4a-e58e-f21bc83386ea"
      },
      "execution_count": 87,
      "outputs": [
        {
          "output_type": "stream",
          "name": "stdout",
          "text": [
            "\n",
            "Total fare paid by third class passengers:\n",
            "6714.6951\n"
          ]
        }
      ]
    },
    {
      "cell_type": "markdown",
      "source": [
        "5. Divide the totals for each class by the overall total fare to get the proportion of fare revenue by class."
      ],
      "metadata": {
        "id": "OvUP_ZkuisuH"
      }
    },
    {
      "cell_type": "code",
      "source": [
        "# Calculate the proportion of fare revenue for each class\n",
        "proportion_first_class = total_fare_first_class / total_fare\n",
        "proportion_second_class = total_fare_second_class / total_fare\n",
        "proportion_third_class = total_fare_third_class / total_fare\n",
        "\n",
        "# Display the proportions\n",
        "print(\"\\nProportion of fare revenue by class:\")\n",
        "print(f\"First class: {proportion_first_class * 100:.2f}%\")\n",
        "print(f\"Second class: {proportion_second_class * 100:.2f}%\")\n",
        "print(f\"Third class: {proportion_third_class * 100:.2f}%\")\n"
      ],
      "metadata": {
        "colab": {
          "base_uri": "https://localhost:8080/"
        },
        "id": "bxeU_Xbji1Gm",
        "outputId": "9805cb72-6001-40f4-f34a-decde39805df"
      },
      "execution_count": 88,
      "outputs": [
        {
          "output_type": "stream",
          "name": "stdout",
          "text": [
            "\n",
            "Proportion of fare revenue by class:\n",
            "First class: 63.35%\n",
            "Second class: 13.25%\n",
            "Third class: 23.40%\n"
          ]
        }
      ]
    },
    {
      "cell_type": "markdown",
      "source": [
        "To answer the question perform following operation:\n",
        "1. Create a new column, age group, that categorizes passengers into \"child\" (age < 18), \"adult\" (age\n",
        "18{64), and \"senior\" (age 65 and above)."
      ],
      "metadata": {
        "id": "m3RWez2qi8o9"
      }
    },
    {
      "cell_type": "code",
      "source": [
        "# Create a new column 'age group' to categorize passengers\n",
        "titanic_data['age group'] = titanic_data['Age'].apply(\n",
        "    lambda age: 'child' if age < 18 else ('adult' if age < 65 else 'senior')\n",
        ")\n",
        "\n",
        "print(\"\\nDataset with the 'age group' column:\")\n",
        "print(titanic_data[['Name', 'Age', 'age group']].head())\n"
      ],
      "metadata": {
        "colab": {
          "base_uri": "https://localhost:8080/"
        },
        "id": "fBMaqG28jC0v",
        "outputId": "ec952408-1c4a-47e0-bd50-41371b93c4f1"
      },
      "execution_count": 89,
      "outputs": [
        {
          "output_type": "stream",
          "name": "stdout",
          "text": [
            "\n",
            "Dataset with the 'age group' column:\n",
            "                                                Name   Age age group\n",
            "0                            Braund, Mr. Owen Harris  22.0     adult\n",
            "1  Cumings, Mrs. John Bradley (Florence Briggs Th...  38.0     adult\n",
            "2                             Heikkinen, Miss. Laina  26.0     adult\n",
            "3       Futrelle, Mrs. Jacques Heath (Lily May Peel)  35.0     adult\n",
            "4                           Allen, Mr. William Henry  35.0     adult\n"
          ]
        }
      ]
    },
    {
      "cell_type": "markdown",
      "source": [
        "2. Calculate the total number of passengers on the Titanic."
      ],
      "metadata": {
        "id": "AsLxpaN-jJZ1"
      }
    },
    {
      "cell_type": "code",
      "source": [
        "# Calculate the total number of passengers on the Titanic\n",
        "total_passengers = len(titanic_data)\n",
        "\n",
        "# Display the result\n",
        "print(\"\\nTotal number of passengers on the Titanic:\")\n",
        "print(total_passengers)\n"
      ],
      "metadata": {
        "colab": {
          "base_uri": "https://localhost:8080/"
        },
        "id": "vVhfr2rDjUhX",
        "outputId": "06fab82f-3e1d-434e-9474-a6a7b7313b91"
      },
      "execution_count": 90,
      "outputs": [
        {
          "output_type": "stream",
          "name": "stdout",
          "text": [
            "\n",
            "Total number of passengers on the Titanic:\n",
            "891\n"
          ]
        }
      ]
    },
    {
      "cell_type": "markdown",
      "source": [
        "3. Count the number of passengers in each age group."
      ],
      "metadata": {
        "id": "9FOeKV1ZjXUK"
      }
    },
    {
      "cell_type": "code",
      "source": [
        "# Count the number of passengers in each age group\n",
        "age_group_counts = titanic_data['age group'].value_counts()\n",
        "\n",
        "# Display the result\n",
        "print(\"\\nNumber of passengers in each age group:\")\n",
        "print(age_group_counts)\n"
      ],
      "metadata": {
        "colab": {
          "base_uri": "https://localhost:8080/"
        },
        "id": "b44oEIkajZt7",
        "outputId": "97f537cd-bc12-416f-fdbb-38b562db00ad"
      },
      "execution_count": 91,
      "outputs": [
        {
          "output_type": "stream",
          "name": "stdout",
          "text": [
            "\n",
            "Number of passengers in each age group:\n",
            "age group\n",
            "adult     767\n",
            "child     113\n",
            "senior     11\n",
            "Name: count, dtype: int64\n"
          ]
        }
      ]
    },
    {
      "cell_type": "markdown",
      "source": [
        "4. Divide the count of each age group by the total number of passengers to get the proportion of passengers\n",
        "in each age group."
      ],
      "metadata": {
        "id": "Gum5a-owjiBB"
      }
    },
    {
      "cell_type": "code",
      "source": [
        "# Calculate the proportion of passengers in each age group\n",
        "age_group_proportions = age_group_counts / total_passengers\n",
        "\n",
        "# Display the result\n",
        "print(\"\\nProportion of passengers in each age group:\")\n",
        "print(age_group_proportions)\n"
      ],
      "metadata": {
        "colab": {
          "base_uri": "https://localhost:8080/"
        },
        "id": "hdwqwg8qjpct",
        "outputId": "875076a1-c556-4551-b59f-d297c173d215"
      },
      "execution_count": 92,
      "outputs": [
        {
          "output_type": "stream",
          "name": "stdout",
          "text": [
            "\n",
            "Proportion of passengers in each age group:\n",
            "age group\n",
            "adult     0.860831\n",
            "child     0.126824\n",
            "senior    0.012346\n",
            "Name: count, dtype: float64\n"
          ]
        }
      ]
    },
    {
      "cell_type": "markdown",
      "source": [
        "5. Display the proportion as a percentage."
      ],
      "metadata": {
        "id": "r1h647q1jr59"
      }
    },
    {
      "cell_type": "code",
      "source": [
        "# Calculate the proportion as a percentage\n",
        "age_group_percentage = age_group_proportions * 100\n",
        "\n",
        "print(\"\\nProportion of passengers in each age group (as a percentage):\")\n",
        "print(age_group_percentage.apply(lambda x: f\"{x:.2f}%\"))\n"
      ],
      "metadata": {
        "colab": {
          "base_uri": "https://localhost:8080/"
        },
        "id": "0kg4FMdFjsGY",
        "outputId": "0dfef45c-c305-4433-843a-40718698a660"
      },
      "execution_count": 93,
      "outputs": [
        {
          "output_type": "stream",
          "name": "stdout",
          "text": [
            "\n",
            "Proportion of passengers in each age group (as a percentage):\n",
            "age group\n",
            "adult     86.08%\n",
            "child     12.68%\n",
            "senior     1.23%\n",
            "Name: count, dtype: object\n"
          ]
        }
      ]
    }
  ]
}
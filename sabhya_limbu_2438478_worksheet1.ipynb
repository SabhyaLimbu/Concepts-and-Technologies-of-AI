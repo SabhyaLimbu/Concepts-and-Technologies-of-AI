{
  "nbformat": 4,
  "nbformat_minor": 0,
  "metadata": {
    "colab": {
      "private_outputs": true,
      "provenance": []
    },
    "kernelspec": {
      "name": "python3",
      "display_name": "Python 3"
    },
    "language_info": {
      "name": "python"
    }
  },
  "cells": [
    {
      "cell_type": "markdown",
      "source": [
        "Problem - 1: Array Creation:\n",
        "Complete the following Tasks:\n",
        "1. Initialize an empty array with size 2X2."
      ],
      "metadata": {
        "id": "v0Jjw3-VwDjN"
      }
    },
    {
      "cell_type": "code",
      "source": [
        "import numpy as np\n",
        "# Creating an empty array with shape (2, 2)\n",
        "empty_array = np.empty((2, 2))\n",
        "print(empty_array)\n"
      ],
      "metadata": {
        "id": "zh92WuV4wtq6"
      },
      "execution_count": null,
      "outputs": []
    },
    {
      "cell_type": "markdown",
      "source": [
        "2.Initialize an all one array with size 4X2."
      ],
      "metadata": {
        "id": "X-Fxojzhy4gO"
      }
    },
    {
      "cell_type": "code",
      "source": [
        "ones_array = np.ones((4, 2))\n",
        "print(ones_array)\n"
      ],
      "metadata": {
        "id": "Y6yWYwtD0lpg"
      },
      "execution_count": null,
      "outputs": []
    },
    {
      "cell_type": "markdown",
      "source": [
        "3. Return a new array of given shape and type, filled with fill value.{Hint: np.full}"
      ],
      "metadata": {
        "id": "mkakn8wp1GRp"
      }
    },
    {
      "cell_type": "code",
      "source": [
        "fill_value_array = np.full((3, 3), 7, dtype=int)\n",
        "print(fill_value_array)\n"
      ],
      "metadata": {
        "id": "SibqnUxq1IFL"
      },
      "execution_count": null,
      "outputs": []
    },
    {
      "cell_type": "markdown",
      "source": [
        "4.Return a new array of zeros with same shape and type as a given array.{Hint: np.zeros like}"
      ],
      "metadata": {
        "id": "37OcV4u51WQr"
      }
    },
    {
      "cell_type": "code",
      "source": [
        "existing_array = np.array([1, 2, 3, 4])\n",
        "zeros_like_array = np.zeros_like(existing_array)\n",
        "print(zeros_like_array)\n"
      ],
      "metadata": {
        "id": "Pa-o0N2_43f3"
      },
      "execution_count": null,
      "outputs": []
    },
    {
      "cell_type": "markdown",
      "source": [
        "5. Return a new array of ones with same shape and type as a given array.{Hint: np.ones like}"
      ],
      "metadata": {
        "id": "eGfXaERT1qUI"
      }
    },
    {
      "cell_type": "code",
      "source": [
        "ones_like_array = np.ones_like(existing_array)\n",
        "print(ones_like_array)\n"
      ],
      "metadata": {
        "id": "7gsqT0Aj1sLX"
      },
      "execution_count": null,
      "outputs": []
    },
    {
      "cell_type": "markdown",
      "source": [
        "6. For an existing list new_list = [1,2,3,4] convert to an numpy array.{Hint: np.array()}"
      ],
      "metadata": {
        "id": "euPaPKyU159C"
      }
    },
    {
      "cell_type": "code",
      "source": [
        "new_list = [1, 2, 3, 4]\n",
        "numpy_array = np.array(new_list)\n",
        "print(\"Converted NumPy Array is:\", numpy_array)"
      ],
      "metadata": {
        "id": "_FFllNTA17yI"
      },
      "execution_count": null,
      "outputs": []
    },
    {
      "cell_type": "markdown",
      "source": [
        "Problem- 2: Array Manipulation: Numerical Ranges and Array indexing:\n",
        " Complete the following tasks:\n",
        " 1. Create an array with values ranging from 10 to 49. {Hint:np.arrange()}"
      ],
      "metadata": {
        "id": "Waeb70wK5-QY"
      }
    },
    {
      "cell_type": "code",
      "source": [
        "import numpy as np\n",
        "\n",
        "array = np.arange(10, 50)\n",
        "print(array)\n"
      ],
      "metadata": {
        "id": "Hrjo_1nB5_5K"
      },
      "execution_count": null,
      "outputs": []
    },
    {
      "cell_type": "markdown",
      "source": [
        "2. Create a 3X3 matrix with values ranging from 0 to 8.\n",
        " {Hint:look for np.reshape()}"
      ],
      "metadata": {
        "id": "iu2mTabn6hHC"
      }
    },
    {
      "cell_type": "code",
      "source": [
        "array_3x3 = np.arange(9).reshape(3, 3)\n",
        "print(array_3x3)\n"
      ],
      "metadata": {
        "id": "H_1w3HTB6mIE"
      },
      "execution_count": null,
      "outputs": []
    },
    {
      "cell_type": "markdown",
      "source": [
        "3. Create a 3X3 identity matrix.{Hint:np.eye()}"
      ],
      "metadata": {
        "id": "14A5ry8y6snk"
      }
    },
    {
      "cell_type": "code",
      "source": [
        "identity_matrix = np.eye(3)\n",
        "print(identity_matrix)\n"
      ],
      "metadata": {
        "id": "m1wNYFKO6wzM"
      },
      "execution_count": null,
      "outputs": []
    },
    {
      "cell_type": "markdown",
      "source": [
        " 4. Create a random array of size 30 and find the mean of the array.\n",
        " {Hint:check for np.random.random() and array.mean() function}"
      ],
      "metadata": {
        "id": "xy1AqzMJ63xR"
      }
    },
    {
      "cell_type": "code",
      "source": [
        "random_array = np.random.random(30)\n",
        "mean_value = random_array.mean()\n",
        "print(f\"Mean of the array is: {mean_value}\")\n"
      ],
      "metadata": {
        "id": "35-ONA_p68wl"
      },
      "execution_count": null,
      "outputs": []
    },
    {
      "cell_type": "markdown",
      "source": [
        "5. Create a 10X10 array with random values and find the minimum and maximum values."
      ],
      "metadata": {
        "id": "zZxnGPrR7A05"
      }
    },
    {
      "cell_type": "code",
      "source": [
        "random_10x10 = np.random.random((10, 10))\n",
        "min_value = random_10x10.min()\n",
        "max_value = random_10x10.max()\n",
        "print(f\"Min: {min_value}, Max: {max_value}\")\n"
      ],
      "metadata": {
        "id": "Ewi-eHCN7Fsx"
      },
      "execution_count": null,
      "outputs": []
    },
    {
      "cell_type": "markdown",
      "source": [
        " 6. Create a zero array of size 10 and replace 5th element with 1"
      ],
      "metadata": {
        "id": "nP0jjlqS7Keb"
      }
    },
    {
      "cell_type": "code",
      "source": [
        "zero_array = np.zeros(10)\n",
        "zero_array[4] = 1  # Index 4 is the 5th element\n",
        "print(zero_array)\n"
      ],
      "metadata": {
        "id": "vI2NJweH7Psl"
      },
      "execution_count": null,
      "outputs": []
    },
    {
      "cell_type": "markdown",
      "source": [
        "7. Reverse an array arr = [1,2,0,0,4,0]."
      ],
      "metadata": {
        "id": "sZvim5_K7T7N"
      }
    },
    {
      "cell_type": "code",
      "source": [
        "arr = np.array([1, 2, 0, 0, 4, 0])\n",
        "reversed_arr = arr[::-1]\n",
        "print(reversed_arr)\n"
      ],
      "metadata": {
        "id": "1wkQBNq07Y86"
      },
      "execution_count": null,
      "outputs": []
    },
    {
      "cell_type": "markdown",
      "source": [
        " 8. Create a 2d array with 1 on border and 0 inside."
      ],
      "metadata": {
        "id": "MbYhizbx7ckR"
      }
    },
    {
      "cell_type": "code",
      "source": [
        "border_array = np.ones((5, 5))\n",
        "border_array[1:-1, 1:-1] = 0\n",
        "print(border_array)\n"
      ],
      "metadata": {
        "id": "1VH3BTwY7gCE"
      },
      "execution_count": null,
      "outputs": []
    },
    {
      "cell_type": "markdown",
      "source": [
        "9. Create a 8X8 matrix and fill it with a checkerboard pattern."
      ],
      "metadata": {
        "id": "uXkHdCxM7jFf"
      }
    },
    {
      "cell_type": "code",
      "source": [
        "checkerboard = np.zeros((8, 8))\n",
        "checkerboard[1::2, ::2] = 1\n",
        "checkerboard[::2, 1::2] = 1\n",
        "print(checkerboard)\n"
      ],
      "metadata": {
        "id": "rsV7al0z7nbQ"
      },
      "execution_count": null,
      "outputs": []
    },
    {
      "cell_type": "markdown",
      "source": [
        " Problem- 3: Array Operations:\n",
        " For the following arrays:\n",
        " x = np.array([[1,2],[3,5]]) and y = np.array([[5,6],[7,8]]);\n",
        " v = np.array([9,10]) and w = np.array([11,12]);\n",
        " Complete all the task using numpy:\n",
        " 1. Add the two array."
      ],
      "metadata": {
        "id": "a1j8gaNK8bFQ"
      }
    },
    {
      "cell_type": "code",
      "source": [
        "import numpy as np\n",
        "\n",
        "x = np.array([[1, 2], [3, 5]])\n",
        "y = np.array([[5, 6], [7, 8]])\n",
        "v = np.array([9, 10])\n",
        "w = np.array([11, 12])\n",
        "sum_array = np.add(x, y)\n",
        "print(sum_array)\n"
      ],
      "metadata": {
        "id": "b5pOaCUk8geh"
      },
      "execution_count": null,
      "outputs": []
    },
    {
      "cell_type": "markdown",
      "source": [
        "2. Subtract the two array."
      ],
      "metadata": {
        "id": "A2FtFd4X8nYD"
      }
    },
    {
      "cell_type": "code",
      "source": [
        "subtract_array = np.subtract(x, y)\n",
        "print(subtract_array)\n"
      ],
      "metadata": {
        "id": "K7Nzg8Dl8qMz"
      },
      "execution_count": null,
      "outputs": []
    },
    {
      "cell_type": "markdown",
      "source": [
        "3. Multiply the array with any integers of your choice."
      ],
      "metadata": {
        "id": "pe6Wh_QK8uC-"
      }
    },
    {
      "cell_type": "code",
      "source": [
        "multiplied_array = x * 2\n",
        "print(multiplied_array)\n"
      ],
      "metadata": {
        "id": "dBJ68xwr8xwu"
      },
      "execution_count": null,
      "outputs": []
    },
    {
      "cell_type": "markdown",
      "source": [
        " 4. Find the square of each element of the array."
      ],
      "metadata": {
        "id": "wb8b6MBq81ed"
      }
    },
    {
      "cell_type": "code",
      "source": [
        "squared_array = np.square(x)\n",
        "print(squared_array)\n"
      ],
      "metadata": {
        "id": "yBvNrU9p84X0"
      },
      "execution_count": null,
      "outputs": []
    },
    {
      "cell_type": "markdown",
      "source": [
        " 5. Find the dot product between: v(and)w ; x(and)v ; x(and)y."
      ],
      "metadata": {
        "id": "n9GGo4Ly88Gz"
      }
    },
    {
      "cell_type": "code",
      "source": [
        "dot_v_w = np.dot(v, w)\n",
        "dot_x_v = np.dot(x, v)\n",
        "dot_x_y = np.dot(x, y)\n",
        "\n",
        "print(f\"Dot product of v and w is: {dot_v_w}\")\n",
        "print(f\"Dot product of x and v is: {dot_x_v}\")\n",
        "print(f\"Dot product of x and y is: {dot_x_y}\")\n"
      ],
      "metadata": {
        "id": "IOzRf4kC8_NR"
      },
      "execution_count": null,
      "outputs": []
    },
    {
      "cell_type": "markdown",
      "source": [
        " 6. Concatenate x(and)y along row and Concatenate v(and)w along column.\n",
        " {Hint:try np.concatenate() or np.vstack() functions."
      ],
      "metadata": {
        "id": "htEppbn49EAc"
      }
    },
    {
      "cell_type": "code",
      "source": [
        "concatenate_x_y = np.concatenate((x, y), axis=0)\n",
        "concatenate_v_w = np.concatenate((v.reshape(-1, 1), w.reshape(-1, 1)), axis=1)\n",
        "\n",
        "print(f\"Concatenated x and y along rows:\\n{concatenate_x_y}\")\n",
        "print(f\"Concatenated v and w along columns:\\n{concatenate_v_w}\")\n"
      ],
      "metadata": {
        "id": "xureMRLk9H2Z"
      },
      "execution_count": null,
      "outputs": []
    },
    {
      "cell_type": "markdown",
      "source": [
        " 7. Concatenate x(and)v; if you get an error, observe and explain why did you get the error?"
      ],
      "metadata": {
        "id": "yFQRS89z9L3n"
      }
    },
    {
      "cell_type": "code",
      "source": [
        "try:\n",
        "    concatenate_x_v = np.concatenate((x, v), axis=0)\n",
        "    print(concatenate_x_v)\n",
        "except Exception as e:\n",
        "    print(f\"Error: {e}\")\n"
      ],
      "metadata": {
        "id": "756LPgw09RDJ"
      },
      "execution_count": null,
      "outputs": []
    },
    {
      "cell_type": "markdown",
      "source": [
        " Problem- 4: Matrix Operations:\n",
        " • For the following arrays:\n",
        " A = np.array([[3,4],[7,8]]) and B = np.array([[5,3],[2,1]]);\n",
        " Prove following with Numpy:\n",
        " 1. Prove A.A−1 = I.\n"
      ],
      "metadata": {
        "id": "5FFUeOox9Wgh"
      }
    },
    {
      "cell_type": "code",
      "source": [
        "import numpy as np\n",
        "\n",
        "A = np.array([[3, 4], [7, 8]])\n",
        "B = np.array([[5, 3], [2, 1]])\n",
        "I = np.eye(2)  # Identity matrix of size 2x2\n",
        "A_inv = np.linalg.inv(A)\n",
        "result = np.dot(A, A_inv)\n",
        "print(\"A * A^-1 = \\n\", result)\n",
        "print(\"Identity Matrix I = \\n\", I)\n"
      ],
      "metadata": {
        "id": "3TB5gl5s9k-C"
      },
      "execution_count": null,
      "outputs": []
    },
    {
      "cell_type": "markdown",
      "source": [
        " 2. Prove AB= BA."
      ],
      "metadata": {
        "id": "MsDYLYzu9yrT"
      }
    },
    {
      "cell_type": "code",
      "source": [
        "AB = np.dot(A, B)\n",
        "BA = np.dot(B, A)\n",
        "print(\"AB = \\n\", AB)\n",
        "print(\"BA = \\n\", BA)\n",
        "print(\"AB equals BA: \", np.allclose(AB, BA))  # Check if AB and BA are equal\n"
      ],
      "metadata": {
        "id": "oj6-obfJ93CR"
      },
      "execution_count": null,
      "outputs": []
    },
    {
      "cell_type": "markdown",
      "source": [
        " 3. Prove (AB)T = BTAT."
      ],
      "metadata": {
        "id": "ie_8XU8j97qz"
      }
    },
    {
      "cell_type": "code",
      "source": [
        "AB_transpose = np.transpose(AB)\n",
        "BT_AT = np.dot(np.transpose(B), np.transpose(A))\n",
        "print(\"Transpose of AB = \\n\", AB_transpose)\n",
        "print(\"B^T * A^T = \\n\", BT_AT)\n",
        "print(\"(AB)^T equals B^T A^T: \", np.allclose(AB_transpose, BT_AT))  # Check if they are equal\n"
      ],
      "metadata": {
        "id": "rLWnZN5l9_Zk"
      },
      "execution_count": null,
      "outputs": []
    },
    {
      "cell_type": "markdown",
      "source": [
        " • Solve the following system of Linear equation using Inverse Methods.\n",
        " 2x −3y+z =−1\n",
        " x −y+2z =−3\n",
        " 3x +y−z =9"
      ],
      "metadata": {
        "id": "KM7x9FQI-CwM"
      }
    },
    {
      "cell_type": "code",
      "source": [
        "A_system = np.array([[2, -3, 1], [1, -1, 2], [3, 1, -1]])  # Coefficient matrix\n",
        "B_system = np.array([-1, -3, 9])\n",
        "# Solve for X using the inverse method: X = A_inv * B\n",
        "A_inv_system = np.linalg.inv(A_system)\n",
        "X = np.dot(A_inv_system, B_system)\n",
        "print(\"Solution of the system (x, y, z): \", X)\n"
      ],
      "metadata": {
        "id": "BUgDal38-Hx0"
      },
      "execution_count": null,
      "outputs": []
    },
    {
      "cell_type": "markdown",
      "source": [
        "• Now: solve the above equation using np.linalg.inv function.{Explore more about ”linalg” function\n",
        " of Numpy}"
      ],
      "metadata": {
        "id": "nu-ieFy_-X05"
      }
    },
    {
      "cell_type": "code",
      "source": [
        "import numpy as np\n",
        "\n",
        "# Coefficient matrix A (3x3)\n",
        "A_system = np.array([[2, -3, 1], [1, -1, 2], [3, 1, -1]])\n",
        "\n",
        "B_system = np.array([-1, -3, 9])\n",
        "\n",
        "A_inv_system = np.linalg.inv(A_system)\n",
        "\n",
        "X = np.dot(A_inv_system, B_system)\n",
        "\n",
        "print(\"Solution of the system (x, y, z) is:\", X)\n"
      ],
      "metadata": {
        "id": "KEzbtAEW-YIr"
      },
      "execution_count": null,
      "outputs": []
    }
  ]
}